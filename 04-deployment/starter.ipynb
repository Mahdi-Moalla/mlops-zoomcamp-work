{
 "cells": [
  {
   "cell_type": "code",
   "execution_count": 1,
   "id": "2c51efaa",
   "metadata": {},
   "outputs": [],
   "source": [
    "#!pip freeze | grep scikit-learn"
   ]
  },
  {
   "cell_type": "code",
   "execution_count": 2,
   "id": "4acf73a0-51b5-4663-9bb8-8eb947863e17",
   "metadata": {},
   "outputs": [],
   "source": [
    "#!python -V"
   ]
  },
  {
   "cell_type": "code",
   "execution_count": 2,
   "id": "6f3aec9d-9df8-4f4b-a01f-7b26a507367b",
   "metadata": {},
   "outputs": [],
   "source": [
    "#!wget https://github.com/DataTalksClub/mlops-zoomcamp/raw/refs/heads/main/cohorts/2025/04-deployment/homework/model.bin"
   ]
  },
  {
   "cell_type": "code",
   "execution_count": 3,
   "id": "0ef880a0",
   "metadata": {},
   "outputs": [],
   "source": [
    "import pickle\n",
    "import pandas as pd"
   ]
  },
  {
   "cell_type": "code",
   "execution_count": 4,
   "id": "7836ccfd",
   "metadata": {},
   "outputs": [],
   "source": [
    "with open('model.bin', 'rb') as f_in:\n",
    "    dv, model = pickle.load(f_in)"
   ]
  },
  {
   "cell_type": "code",
   "execution_count": 5,
   "id": "41c08294",
   "metadata": {},
   "outputs": [],
   "source": [
    "categorical = ['PULocationID', 'DOLocationID']\n",
    "\n",
    "def read_data(filename):\n",
    "    df = pd.read_parquet(filename)\n",
    "    \n",
    "    df['duration'] = df.tpep_dropoff_datetime - df.tpep_pickup_datetime\n",
    "    df['duration'] = df.duration.dt.total_seconds() / 60\n",
    "\n",
    "    df = df[(df.duration >= 1) & (df.duration <= 60)].copy()\n",
    "\n",
    "    df[categorical] = df[categorical].fillna(-1).astype('int').astype('str')\n",
    "    \n",
    "    return df"
   ]
  },
  {
   "cell_type": "code",
   "execution_count": 6,
   "id": "2d870a7f-f9a3-4a9b-8a73-077ccc184252",
   "metadata": {},
   "outputs": [],
   "source": [
    "#!wget https://d37ci6vzurychx.cloudfront.net/trip-data/yellow_tripdata_2023-03.parquet"
   ]
  },
  {
   "cell_type": "code",
   "execution_count": 7,
   "id": "4854399a",
   "metadata": {},
   "outputs": [],
   "source": [
    "year=2023\n",
    "month=3\n",
    "\n",
    "df = read_data('yellow_tripdata_2023-03.parquet')"
   ]
  },
  {
   "cell_type": "code",
   "execution_count": 8,
   "id": "669fda0a",
   "metadata": {},
   "outputs": [],
   "source": [
    "dicts = df[categorical].to_dict(orient='records')\n",
    "X_val = dv.transform(dicts)\n",
    "y_pred = model.predict(X_val)"
   ]
  },
  {
   "cell_type": "code",
   "execution_count": 9,
   "id": "bf532ae7-1897-428c-ba0c-875ccaf7d76c",
   "metadata": {},
   "outputs": [
    {
     "data": {
      "text/plain": [
       "np.float64(6.247488852238703)"
      ]
     },
     "execution_count": 9,
     "metadata": {},
     "output_type": "execute_result"
    }
   ],
   "source": [
    "y_pred.std()"
   ]
  },
  {
   "cell_type": "code",
   "execution_count": 11,
   "id": "ac4f84b7-6ad6-4681-86b6-0ae22e622739",
   "metadata": {},
   "outputs": [],
   "source": [
    "df['ride_id'] = f'{year:04d}/{month:02d}_' + df.index.astype('str')\n",
    "df['duration_prediction']=y_pred"
   ]
  },
  {
   "cell_type": "code",
   "execution_count": 12,
   "id": "383cb26a-7676-4ab6-8269-dff692eb0b60",
   "metadata": {},
   "outputs": [],
   "source": [
    "df_result=df[ ['ride_id','duration_prediction'] ]"
   ]
  },
  {
   "cell_type": "code",
   "execution_count": 13,
   "id": "fd67db24-2819-4bc4-a0b5-8e3773c4bd10",
   "metadata": {},
   "outputs": [
    {
     "data": {
      "text/html": [
       "<div>\n",
       "<style scoped>\n",
       "    .dataframe tbody tr th:only-of-type {\n",
       "        vertical-align: middle;\n",
       "    }\n",
       "\n",
       "    .dataframe tbody tr th {\n",
       "        vertical-align: top;\n",
       "    }\n",
       "\n",
       "    .dataframe thead th {\n",
       "        text-align: right;\n",
       "    }\n",
       "</style>\n",
       "<table border=\"1\" class=\"dataframe\">\n",
       "  <thead>\n",
       "    <tr style=\"text-align: right;\">\n",
       "      <th></th>\n",
       "      <th>ride_id</th>\n",
       "      <th>duration_prediction</th>\n",
       "    </tr>\n",
       "  </thead>\n",
       "  <tbody>\n",
       "    <tr>\n",
       "      <th>0</th>\n",
       "      <td>2023/03_0</td>\n",
       "      <td>16.245906</td>\n",
       "    </tr>\n",
       "    <tr>\n",
       "      <th>1</th>\n",
       "      <td>2023/03_1</td>\n",
       "      <td>26.134796</td>\n",
       "    </tr>\n",
       "    <tr>\n",
       "      <th>2</th>\n",
       "      <td>2023/03_2</td>\n",
       "      <td>11.884264</td>\n",
       "    </tr>\n",
       "    <tr>\n",
       "      <th>3</th>\n",
       "      <td>2023/03_3</td>\n",
       "      <td>11.997720</td>\n",
       "    </tr>\n",
       "    <tr>\n",
       "      <th>4</th>\n",
       "      <td>2023/03_4</td>\n",
       "      <td>10.234486</td>\n",
       "    </tr>\n",
       "    <tr>\n",
       "      <th>...</th>\n",
       "      <td>...</td>\n",
       "      <td>...</td>\n",
       "    </tr>\n",
       "    <tr>\n",
       "      <th>3403761</th>\n",
       "      <td>2023/03_3403761</td>\n",
       "      <td>11.952635</td>\n",
       "    </tr>\n",
       "    <tr>\n",
       "      <th>3403762</th>\n",
       "      <td>2023/03_3403762</td>\n",
       "      <td>20.049958</td>\n",
       "    </tr>\n",
       "    <tr>\n",
       "      <th>3403763</th>\n",
       "      <td>2023/03_3403763</td>\n",
       "      <td>11.595336</td>\n",
       "    </tr>\n",
       "    <tr>\n",
       "      <th>3403764</th>\n",
       "      <td>2023/03_3403764</td>\n",
       "      <td>13.113178</td>\n",
       "    </tr>\n",
       "    <tr>\n",
       "      <th>3403765</th>\n",
       "      <td>2023/03_3403765</td>\n",
       "      <td>12.899992</td>\n",
       "    </tr>\n",
       "  </tbody>\n",
       "</table>\n",
       "<p>3316216 rows × 2 columns</p>\n",
       "</div>"
      ],
      "text/plain": [
       "                 ride_id  duration_prediction\n",
       "0              2023/03_0            16.245906\n",
       "1              2023/03_1            26.134796\n",
       "2              2023/03_2            11.884264\n",
       "3              2023/03_3            11.997720\n",
       "4              2023/03_4            10.234486\n",
       "...                  ...                  ...\n",
       "3403761  2023/03_3403761            11.952635\n",
       "3403762  2023/03_3403762            20.049958\n",
       "3403763  2023/03_3403763            11.595336\n",
       "3403764  2023/03_3403764            13.113178\n",
       "3403765  2023/03_3403765            12.899992\n",
       "\n",
       "[3316216 rows x 2 columns]"
      ]
     },
     "execution_count": 13,
     "metadata": {},
     "output_type": "execute_result"
    }
   ],
   "source": [
    "df_result"
   ]
  },
  {
   "cell_type": "code",
   "execution_count": 15,
   "id": "312c5461-5091-4b42-ac69-a6ab847ee356",
   "metadata": {},
   "outputs": [],
   "source": [
    "df_result.to_parquet(\n",
    "    'df_result.parquet',\n",
    "    engine='pyarrow',\n",
    "    compression=None,\n",
    "    index=False\n",
    ")"
   ]
  },
  {
   "cell_type": "code",
   "execution_count": 16,
   "id": "ead684b6-9e28-4b23-863f-4d6147d048ce",
   "metadata": {},
   "outputs": [
    {
     "name": "stdout",
     "output_type": "stream",
     "text": [
      "total 120M\n",
      "drwxr-xr-x 3 mahdi mahdi 4.0K Jun 14 19:40 .\n",
      "drwxr-xr-x 3 mahdi mahdi 4.0K Jun 14 19:30 ..\n",
      "drwxr-xr-x 2 mahdi mahdi 4.0K Jun 14 19:31 .ipynb_checkpoints\n",
      "-rw-r--r-- 1 mahdi mahdi  66M Jun 14 19:40 df_result.parquet\n",
      "-rw-r--r-- 1 mahdi mahdi  17K Jun 14 19:31 model.bin\n",
      "-rw-r--r-- 1 mahdi mahdi 7.8K Jun 14 19:39 starter.ipynb\n",
      "-rw-r--r-- 1 mahdi mahdi  54M May 19  2023 yellow_tripdata_2023-03.parquet\n"
     ]
    }
   ],
   "source": [
    "!ls  -alh"
   ]
  },
  {
   "cell_type": "code",
   "execution_count": 17,
   "id": "8a1d2142-12ab-4a37-a8a0-45bd862a0926",
   "metadata": {},
   "outputs": [],
   "source": [
    "# !jupyter nbconvert --to script starter.ipynb"
   ]
  },
  {
   "cell_type": "code",
   "execution_count": null,
   "id": "6b886d1a-2400-4440-b2d8-cbb4572ffd6c",
   "metadata": {},
   "outputs": [],
   "source": [
    "# !pipenv install scikit-learn==1.5.0 pandas pyarrow tqdm  fire requests"
   ]
  },
  {
   "cell_type": "code",
   "execution_count": 3,
   "id": "40ce6e1c-d702-4990-9fa7-1f66a2182020",
   "metadata": {},
   "outputs": [],
   "source": [
    "# hash: 057b991ac64b3e75c9c04b5f9395eaf19a6179244c089afdebaad98264bff37c"
   ]
  },
  {
   "cell_type": "code",
   "execution_count": null,
   "id": "e3b91bfc-4326-45c8-9739-3ed6cd943442",
   "metadata": {},
   "outputs": [],
   "source": [
    "# predicted duration mean: 14.292282936862449"
   ]
  },
  {
   "cell_type": "code",
   "execution_count": null,
   "id": "637d018c-3a26-463f-9884-48e53fa34401",
   "metadata": {},
   "outputs": [],
   "source": [
    "# !docker build  -t mlops_04_batch_script ."
   ]
  },
  {
   "cell_type": "code",
   "execution_count": null,
   "id": "44af8481-3627-471b-babd-2c894f2bb8c9",
   "metadata": {},
   "outputs": [],
   "source": [
    "# !docker run -it mlops_04_batch_script --year=2023 --month=5"
   ]
  },
  {
   "cell_type": "code",
   "execution_count": null,
   "id": "3e056014-e880-424d-bfee-dd57806fb1f6",
   "metadata": {},
   "outputs": [],
   "source": [
    "# predicted duration mean: 0.19174419265916945"
   ]
  }
 ],
 "metadata": {
  "kernelspec": {
   "display_name": "Python 3 (ipykernel)",
   "language": "python",
   "name": "python3"
  },
  "language_info": {
   "codemirror_mode": {
    "name": "ipython",
    "version": 3
   },
   "file_extension": ".py",
   "mimetype": "text/x-python",
   "name": "python",
   "nbconvert_exporter": "python",
   "pygments_lexer": "ipython3",
   "version": "3.12.7"
  }
 },
 "nbformat": 4,
 "nbformat_minor": 5
}
