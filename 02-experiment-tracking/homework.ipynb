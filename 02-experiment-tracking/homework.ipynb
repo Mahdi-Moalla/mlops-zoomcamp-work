{
 "cells": [
  {
   "cell_type": "code",
   "execution_count": null,
   "id": "e165d51d-6f57-4ee0-a412-fba8064fd105",
   "metadata": {
    "scrolled": true
   },
   "outputs": [],
   "source": [
    "#!pip install mlflow"
   ]
  },
  {
   "cell_type": "code",
   "execution_count": 31,
   "id": "e406fd41-e592-41f3-b9b8-b8ef2d4407e6",
   "metadata": {},
   "outputs": [],
   "source": [
    "import mlflow\n",
    "from mlflow import MlflowClient"
   ]
  },
  {
   "cell_type": "code",
   "execution_count": 10,
   "id": "d97f34ff-52af-4054-89de-1d1645f7adc9",
   "metadata": {},
   "outputs": [
    {
     "name": "stdout",
     "output_type": "stream",
     "text": [
      "mlflow, version 2.12.2\n"
     ]
    }
   ],
   "source": [
    "# mlflow version\n",
    "!mlflow --version"
   ]
  },
  {
   "cell_type": "code",
   "execution_count": null,
   "id": "e0805ec7-52e1-4ca8-b4ca-c1646ad3063f",
   "metadata": {
    "scrolled": true
   },
   "outputs": [],
   "source": [
    "# download data\n",
    "'''\n",
    "!wget https://d37ci6vzurychx.cloudfront.net/trip-data/green_tripdata_2023-01.parquet\n",
    "!wget https://d37ci6vzurychx.cloudfront.net/trip-data/green_tripdata_2023-02.parquet\n",
    "!wget https://d37ci6vzurychx.cloudfront.net/trip-data/green_tripdata_2023-03.parquet\n",
    "\n",
    "!ls -lh\n",
    "!mkdir raw_data\n",
    "!mv green_tripdata_2023-01.parquet ./raw_data/\n",
    "!mv green_tripdata_2023-02.parquet ./raw_data/\n",
    "!mv green_tripdata_2023-03.parquet ./raw_data/\n",
    "'''"
   ]
  },
  {
   "cell_type": "code",
   "execution_count": 8,
   "id": "a8882ba7-c278-4488-935f-c8213b981ef0",
   "metadata": {},
   "outputs": [],
   "source": [
    "!mkdir data\n",
    "!python preprocess_data.py --raw_data_path ./raw_data/ --dest_path ./data/"
   ]
  },
  {
   "cell_type": "code",
   "execution_count": 9,
   "id": "fe0d86ab-81af-493d-a7d4-f5ca6353a237",
   "metadata": {},
   "outputs": [
    {
     "name": "stdout",
     "output_type": "stream",
     "text": [
      "total 6.9M\n",
      "-rw-r--r-- 1 root root 128K May 26 13:05 dv.pkl\n",
      "-rw-r--r-- 1 root root 2.4M May 26 13:05 test.pkl\n",
      "-rw-r--r-- 1 root root 2.3M May 26 13:05 train.pkl\n",
      "-rw-r--r-- 1 root root 2.2M May 26 13:05 val.pkl\n"
     ]
    }
   ],
   "source": [
    "!ls -lh ./data"
   ]
  },
  {
   "cell_type": "code",
   "execution_count": 14,
   "id": "a9bb938c-f5a6-4a53-b244-25b86fba2be1",
   "metadata": {},
   "outputs": [
    {
     "name": "stdout",
     "output_type": "stream",
     "text": [
      "2025/05/26 13:21:33 WARNING mlflow.utils.autologging_utils: You are using an unsupported version of sklearn. If you encounter errors during autologging, try upgrading / downgrading sklearn to a supported version, or try upgrading MLflow.\n",
      "2025/05/26 13:21:34 WARNING mlflow.sklearn: Failed to log training dataset information to MLflow Tracking. Reason: 'numpy.ndarray' object has no attribute 'toarray'\n",
      "/root/anaconda3/lib/python3.12/site-packages/sklearn/metrics/_regression.py:492: FutureWarning: 'squared' is deprecated in version 1.4 and will be removed in 1.6. To calculate the root mean squared error, use the function'root_mean_squared_error'.\n",
      "  warnings.warn(\n"
     ]
    }
   ],
   "source": [
    "!python train.py --data_path ./data"
   ]
  },
  {
   "cell_type": "code",
   "execution_count": 19,
   "id": "7ee44ffa-b350-45a8-a28e-becce8e3df0b",
   "metadata": {},
   "outputs": [],
   "source": [
    "# min_samples_split 2"
   ]
  },
  {
   "cell_type": "code",
   "execution_count": 20,
   "id": "3716239c-90df-4451-8390-b63eadde5d43",
   "metadata": {},
   "outputs": [],
   "source": [
    "#!mlflow server  --backend-store-uri sqlite:///mlflow.db --default-artifact-root ./artifacts"
   ]
  },
  {
   "cell_type": "code",
   "execution_count": null,
   "id": "dea78fe4-a9e1-4d63-8b6a-f1e8e073e1d8",
   "metadata": {},
   "outputs": [],
   "source": [
    "#!pip install hyperopt"
   ]
  },
  {
   "cell_type": "code",
   "execution_count": 25,
   "id": "865edc94-4776-42c0-a9cf-ce81c278621e",
   "metadata": {
    "scrolled": true
   },
   "outputs": [
    {
     "name": "stdout",
     "output_type": "stream",
     "text": [
      "  0%|                                    | 0/15 [00:00<?, ?trial/s, best loss=?]/root/anaconda3/lib/python3.12/site-packages/sklearn/metrics/_regression.py:492: FutureWarning: 'squared' is deprecated in version 1.4 and will be removed in 1.6. To calculate the root mean squared error, use the function'root_mean_squared_error'.\n",
      "  warnings.warn(\n",
      "\n",
      "🏃 View run invincible-shark-586 at: http://127.0.0.1:5000/#/experiments/2/runs/f7e71fe4e8464d188efe1f3a2e5b0750\n",
      "\n",
      "🧪 View experiment at: http://127.0.0.1:5000/#/experiments/2                    \n",
      "\n",
      "  7%|▋          | 1/15 [00:04<01:09,  4.99s/trial, best loss: 5.370086069268862]/root/anaconda3/lib/python3.12/site-packages/sklearn/metrics/_regression.py:492: FutureWarning: 'squared' is deprecated in version 1.4 and will be removed in 1.6. To calculate the root mean squared error, use the function'root_mean_squared_error'.\n",
      "  warnings.warn(\n",
      "\n",
      "🏃 View run classy-trout-569 at: http://127.0.0.1:5000/#/experiments/2/runs/4fd90ba96c134583ad4c7c67f729b491\n",
      "\n",
      "🧪 View experiment at: http://127.0.0.1:5000/#/experiments/2                    \n",
      "\n",
      " 13%|█▍         | 2/15 [00:05<00:28,  2.22s/trial, best loss: 5.370086069268862]/root/anaconda3/lib/python3.12/site-packages/sklearn/metrics/_regression.py:492: FutureWarning: 'squared' is deprecated in version 1.4 and will be removed in 1.6. To calculate the root mean squared error, use the function'root_mean_squared_error'.\n",
      "  warnings.warn(\n",
      "\n",
      "🏃 View run skillful-crab-61 at: http://127.0.0.1:5000/#/experiments/2/runs/bf1339f781a0482cad825902023c103d\n",
      "\n",
      "🧪 View experiment at: http://127.0.0.1:5000/#/experiments/2                    \n",
      "\n",
      " 20%|██▏        | 3/15 [00:05<00:16,  1.39s/trial, best loss: 5.370086069268862]/root/anaconda3/lib/python3.12/site-packages/sklearn/metrics/_regression.py:492: FutureWarning: 'squared' is deprecated in version 1.4 and will be removed in 1.6. To calculate the root mean squared error, use the function'root_mean_squared_error'.\n",
      "  warnings.warn(\n",
      "\n",
      "🏃 View run unequaled-bug-940 at: http://127.0.0.1:5000/#/experiments/2/runs/72d27fd247074ce1ace25823c384c048\n",
      "\n",
      "🧪 View experiment at: http://127.0.0.1:5000/#/experiments/2                    \n",
      "\n",
      " 27%|██▉        | 4/15 [00:08<00:23,  2.14s/trial, best loss: 5.357490752366866]/root/anaconda3/lib/python3.12/site-packages/sklearn/metrics/_regression.py:492: FutureWarning: 'squared' is deprecated in version 1.4 and will be removed in 1.6. To calculate the root mean squared error, use the function'root_mean_squared_error'.\n",
      "  warnings.warn(\n",
      "\n",
      "🏃 View run inquisitive-owl-246 at: http://127.0.0.1:5000/#/experiments/2/runs/46a1dd48118a4d92bb705719d60a5657\n",
      "\n",
      "🧪 View experiment at: http://127.0.0.1:5000/#/experiments/2                    \n",
      "\n",
      " 33%|███▋       | 5/15 [00:10<00:19,  1.99s/trial, best loss: 5.357490752366866]/root/anaconda3/lib/python3.12/site-packages/sklearn/metrics/_regression.py:492: FutureWarning: 'squared' is deprecated in version 1.4 and will be removed in 1.6. To calculate the root mean squared error, use the function'root_mean_squared_error'.\n",
      "  warnings.warn(\n",
      "\n",
      "🏃 View run enthused-owl-261 at: http://127.0.0.1:5000/#/experiments/2/runs/10df4665bdb249ffac9163862fb3f3e3\n",
      "\n",
      "🧪 View experiment at: http://127.0.0.1:5000/#/experiments/2                    \n",
      "\n",
      " 40%|████▍      | 6/15 [00:16<00:29,  3.23s/trial, best loss: 5.354695072530291]/root/anaconda3/lib/python3.12/site-packages/sklearn/metrics/_regression.py:492: FutureWarning: 'squared' is deprecated in version 1.4 and will be removed in 1.6. To calculate the root mean squared error, use the function'root_mean_squared_error'.\n",
      "  warnings.warn(\n",
      "\n",
      "🏃 View run bold-owl-717 at: http://127.0.0.1:5000/#/experiments/2/runs/18be684343f84d8e986f6e1056b9bcaf\n",
      "\n",
      "🧪 View experiment at: http://127.0.0.1:5000/#/experiments/2                    \n",
      "\n",
      " 47%|█████▏     | 7/15 [00:21<00:31,  4.00s/trial, best loss: 5.354695072530291]/root/anaconda3/lib/python3.12/site-packages/sklearn/metrics/_regression.py:492: FutureWarning: 'squared' is deprecated in version 1.4 and will be removed in 1.6. To calculate the root mean squared error, use the function'root_mean_squared_error'.\n",
      "  warnings.warn(\n",
      "\n",
      "🏃 View run industrious-loon-179 at: http://127.0.0.1:5000/#/experiments/2/runs/ecf8c1a0463b4c449dec32858a92205a\n",
      "\n",
      "🧪 View experiment at: http://127.0.0.1:5000/#/experiments/2                    \n",
      "\n",
      " 53%|█████▊     | 8/15 [00:22<00:20,  2.93s/trial, best loss: 5.354695072530291]/root/anaconda3/lib/python3.12/site-packages/sklearn/metrics/_regression.py:492: FutureWarning: 'squared' is deprecated in version 1.4 and will be removed in 1.6. To calculate the root mean squared error, use the function'root_mean_squared_error'.\n",
      "  warnings.warn(\n",
      "\n",
      "🏃 View run shivering-bear-515 at: http://127.0.0.1:5000/#/experiments/2/runs/6f381a4d49d6467dadc0583c7ad85a83\n",
      "\n",
      "🧪 View experiment at: http://127.0.0.1:5000/#/experiments/2                    \n",
      "\n",
      " 60%|██████▌    | 9/15 [00:26<00:18,  3.12s/trial, best loss: 5.354695072530291]/root/anaconda3/lib/python3.12/site-packages/sklearn/metrics/_regression.py:492: FutureWarning: 'squared' is deprecated in version 1.4 and will be removed in 1.6. To calculate the root mean squared error, use the function'root_mean_squared_error'.\n",
      "  warnings.warn(\n",
      "\n",
      "🏃 View run salty-dove-512 at: http://127.0.0.1:5000/#/experiments/2/runs/305a2b7fbff04a4497ab27e1deae0833\n",
      "\n",
      "🧪 View experiment at: http://127.0.0.1:5000/#/experiments/2                    \n",
      "\n",
      " 67%|██████▋   | 10/15 [00:28<00:15,  3.03s/trial, best loss: 5.354695072530291]/root/anaconda3/lib/python3.12/site-packages/sklearn/metrics/_regression.py:492: FutureWarning: 'squared' is deprecated in version 1.4 and will be removed in 1.6. To calculate the root mean squared error, use the function'root_mean_squared_error'.\n",
      "  warnings.warn(\n",
      "\n",
      "🏃 View run thoughtful-croc-759 at: http://127.0.0.1:5000/#/experiments/2/runs/1b85459aa13b4cb9a3cd20623aed8a20\n",
      "\n",
      "🧪 View experiment at: http://127.0.0.1:5000/#/experiments/2                    \n",
      "\n",
      " 73%|███████▎  | 11/15 [00:31<00:11,  2.75s/trial, best loss: 5.335419588556921]/root/anaconda3/lib/python3.12/site-packages/sklearn/metrics/_regression.py:492: FutureWarning: 'squared' is deprecated in version 1.4 and will be removed in 1.6. To calculate the root mean squared error, use the function'root_mean_squared_error'.\n",
      "  warnings.warn(\n",
      "\n",
      "🏃 View run smiling-cat-36 at: http://127.0.0.1:5000/#/experiments/2/runs/67d8d339468f4a6bae7f5ac0fe17b959\n",
      "\n",
      "🧪 View experiment at: http://127.0.0.1:5000/#/experiments/2                    \n",
      "\n",
      " 80%|████████  | 12/15 [00:32<00:07,  2.49s/trial, best loss: 5.335419588556921]/root/anaconda3/lib/python3.12/site-packages/sklearn/metrics/_regression.py:492: FutureWarning: 'squared' is deprecated in version 1.4 and will be removed in 1.6. To calculate the root mean squared error, use the function'root_mean_squared_error'.\n",
      "  warnings.warn(\n",
      "\n",
      "🏃 View run sincere-sow-666 at: http://127.0.0.1:5000/#/experiments/2/runs/57908b16e0bb4246987dfffafab30352\n",
      "\n",
      "🧪 View experiment at: http://127.0.0.1:5000/#/experiments/2                    \n",
      "\n",
      " 87%|████████▋ | 13/15 [00:33<00:03,  1.94s/trial, best loss: 5.335419588556921]/root/anaconda3/lib/python3.12/site-packages/sklearn/metrics/_regression.py:492: FutureWarning: 'squared' is deprecated in version 1.4 and will be removed in 1.6. To calculate the root mean squared error, use the function'root_mean_squared_error'.\n",
      "  warnings.warn(\n",
      "\n",
      "🏃 View run enchanting-fish-843 at: http://127.0.0.1:5000/#/experiments/2/runs/0f2a766b7d0143b0be3ac12962c973af\n",
      "\n",
      "🧪 View experiment at: http://127.0.0.1:5000/#/experiments/2                    \n",
      "\n",
      " 93%|█████████▎| 14/15 [00:35<00:01,  1.97s/trial, best loss: 5.335419588556921]/root/anaconda3/lib/python3.12/site-packages/sklearn/metrics/_regression.py:492: FutureWarning: 'squared' is deprecated in version 1.4 and will be removed in 1.6. To calculate the root mean squared error, use the function'root_mean_squared_error'.\n",
      "  warnings.warn(\n",
      "\n",
      "🏃 View run languid-wren-881 at: http://127.0.0.1:5000/#/experiments/2/runs/ad0c0ddf14eb4fa599b556087e1a39a2\n",
      "\n",
      "🧪 View experiment at: http://127.0.0.1:5000/#/experiments/2                    \n",
      "\n",
      "100%|██████████| 15/15 [00:38<00:00,  2.59s/trial, best loss: 5.335419588556921]\n"
     ]
    }
   ],
   "source": [
    "!python hpo.py"
   ]
  },
  {
   "cell_type": "code",
   "execution_count": 26,
   "id": "a63e08ad-8b36-4a97-8ac7-e9ac6dca7308",
   "metadata": {},
   "outputs": [],
   "source": [
    "# val-rmse 5.335419588556921"
   ]
  },
  {
   "cell_type": "code",
   "execution_count": 44,
   "id": "f76c46c1-61bc-42ab-b9d9-dfc58b79006c",
   "metadata": {
    "scrolled": true
   },
   "outputs": [
    {
     "name": "stdout",
     "output_type": "stream",
     "text": [
      "/root/anaconda3/lib/python3.12/site-packages/sklearn/metrics/_regression.py:492: FutureWarning: 'squared' is deprecated in version 1.4 and will be removed in 1.6. To calculate the root mean squared error, use the function'root_mean_squared_error'.\n",
      "  warnings.warn(\n",
      "/root/anaconda3/lib/python3.12/site-packages/sklearn/metrics/_regression.py:492: FutureWarning: 'squared' is deprecated in version 1.4 and will be removed in 1.6. To calculate the root mean squared error, use the function'root_mean_squared_error'.\n",
      "  warnings.warn(\n",
      "🏃 View run classy-chimp-645 at: http://127.0.0.1:5000/#/experiments/3/runs/80b0b6824e1b4cce85c0de7025582c96\n",
      "🧪 View experiment at: http://127.0.0.1:5000/#/experiments/3\n",
      "/root/anaconda3/lib/python3.12/site-packages/sklearn/metrics/_regression.py:492: FutureWarning: 'squared' is deprecated in version 1.4 and will be removed in 1.6. To calculate the root mean squared error, use the function'root_mean_squared_error'.\n",
      "  warnings.warn(\n",
      "/root/anaconda3/lib/python3.12/site-packages/sklearn/metrics/_regression.py:492: FutureWarning: 'squared' is deprecated in version 1.4 and will be removed in 1.6. To calculate the root mean squared error, use the function'root_mean_squared_error'.\n",
      "  warnings.warn(\n",
      "🏃 View run defiant-rook-933 at: http://127.0.0.1:5000/#/experiments/3/runs/5aa0367d53054ca29ce149a7737ce413\n",
      "🧪 View experiment at: http://127.0.0.1:5000/#/experiments/3\n",
      "/root/anaconda3/lib/python3.12/site-packages/sklearn/metrics/_regression.py:492: FutureWarning: 'squared' is deprecated in version 1.4 and will be removed in 1.6. To calculate the root mean squared error, use the function'root_mean_squared_error'.\n",
      "  warnings.warn(\n",
      "/root/anaconda3/lib/python3.12/site-packages/sklearn/metrics/_regression.py:492: FutureWarning: 'squared' is deprecated in version 1.4 and will be removed in 1.6. To calculate the root mean squared error, use the function'root_mean_squared_error'.\n",
      "  warnings.warn(\n",
      "🏃 View run worried-wren-436 at: http://127.0.0.1:5000/#/experiments/3/runs/d39e96b9dfc04497af1819f3dcfce284\n",
      "🧪 View experiment at: http://127.0.0.1:5000/#/experiments/3\n",
      "/root/anaconda3/lib/python3.12/site-packages/sklearn/metrics/_regression.py:492: FutureWarning: 'squared' is deprecated in version 1.4 and will be removed in 1.6. To calculate the root mean squared error, use the function'root_mean_squared_error'.\n",
      "  warnings.warn(\n",
      "/root/anaconda3/lib/python3.12/site-packages/sklearn/metrics/_regression.py:492: FutureWarning: 'squared' is deprecated in version 1.4 and will be removed in 1.6. To calculate the root mean squared error, use the function'root_mean_squared_error'.\n",
      "  warnings.warn(\n",
      "🏃 View run abrasive-flea-773 at: http://127.0.0.1:5000/#/experiments/3/runs/0d7226a90b0b434f8da3830b7bed13fe\n",
      "🧪 View experiment at: http://127.0.0.1:5000/#/experiments/3\n",
      "/root/anaconda3/lib/python3.12/site-packages/sklearn/metrics/_regression.py:492: FutureWarning: 'squared' is deprecated in version 1.4 and will be removed in 1.6. To calculate the root mean squared error, use the function'root_mean_squared_error'.\n",
      "  warnings.warn(\n",
      "/root/anaconda3/lib/python3.12/site-packages/sklearn/metrics/_regression.py:492: FutureWarning: 'squared' is deprecated in version 1.4 and will be removed in 1.6. To calculate the root mean squared error, use the function'root_mean_squared_error'.\n",
      "  warnings.warn(\n",
      "🏃 View run clean-hound-375 at: http://127.0.0.1:5000/#/experiments/3/runs/e998f54ba8274862bdb68a2c23ec7eb7\n",
      "🧪 View experiment at: http://127.0.0.1:5000/#/experiments/3\n",
      "Registered model 'nyc-green-taxi-regressor-models' already exists. Creating a new version of this model...\n",
      "2025/05/26 15:02:52 INFO mlflow.store.model_registry.abstract_store: Waiting up to 300 seconds for model version to finish creation. Model name: nyc-green-taxi-regressor-models, version 2\n",
      "Created version '2' of model 'nyc-green-taxi-regressor-models'.\n"
     ]
    }
   ],
   "source": [
    "!python register_model.py"
   ]
  },
  {
   "cell_type": "code",
   "execution_count": null,
   "id": "86c75cd8-5cc4-4c0f-ad09-8ab203fb9a80",
   "metadata": {},
   "outputs": [],
   "source": [
    "# test_rmse 5.567408012462019"
   ]
  },
  {
   "cell_type": "code",
   "execution_count": null,
   "id": "c1131692-c8ef-4db3-8e25-374e4d691f75",
   "metadata": {},
   "outputs": [],
   "source": []
  },
  {
   "cell_type": "code",
   "execution_count": null,
   "id": "7150a198-88ae-42fc-96df-dc2bb88e9d95",
   "metadata": {},
   "outputs": [],
   "source": []
  }
 ],
 "metadata": {
  "kernelspec": {
   "display_name": "Python 3 (ipykernel)",
   "language": "python",
   "name": "python3"
  },
  "language_info": {
   "codemirror_mode": {
    "name": "ipython",
    "version": 3
   },
   "file_extension": ".py",
   "mimetype": "text/x-python",
   "name": "python",
   "nbconvert_exporter": "python",
   "pygments_lexer": "ipython3",
   "version": "3.12.7"
  }
 },
 "nbformat": 4,
 "nbformat_minor": 5
}
