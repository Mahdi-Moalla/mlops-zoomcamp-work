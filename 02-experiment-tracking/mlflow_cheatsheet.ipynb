{
 "cells": [
  {
   "cell_type": "code",
   "execution_count": 4,
   "id": "7cd225fb-014b-4174-9672-508ccd7cb981",
   "metadata": {},
   "outputs": [],
   "source": [
    "#!conda install -y mlflow\n",
    "\n",
    "import mlflow"
   ]
  },
  {
   "cell_type": "code",
   "execution_count": null,
   "id": "599e2127-8fa9-43dd-ba65-41c493f4cfe8",
   "metadata": {},
   "outputs": [],
   "source": [
    "#pip install mlflow\n",
    "#mlflow ui --backend-store-uri sqlite:///mlflow.db\n",
    "\n",
    "import mlflow\n",
    "\n",
    "tracking_uri='sqlite:///mlflow.db'\n",
    "mlflow.set_tracking_uri(tracking_uri)\n",
    "mlflow.set_experiment('experiment-name')\n",
    "\n",
    "\n",
    "with mlflow.start_run() as run:\n",
    "\n",
    "    ## ml workflow\n",
    "\n",
    "    mlflow.set_tag('developer_name','mahdi')\n",
    "\n",
    "    mlflow.log_param('data','/path/to/data')\n",
    "    \n",
    "    mlflow.xgboost.autolog()\n",
    "    \n",
    "    mlflow.log_param('alpha',alpha)\n",
    "    mlflow.log_params(params_dict)\n",
    "\n",
    "\n",
    "    mlflow.log_metric('metric',metric)\n",
    "\n",
    "    mlflow.log_artifact('/path/to/model/file',artifact_path='/mlflow/saved/artifact/path')\n",
    "\n",
    "\n",
    "# load  model\n",
    "#  model_uri from mlflow ui\n",
    "model_pyfunc= mlflow.pyfunc.load_model(model_uri)\n",
    "model = mlflow.xgboost.load_model(model_uri)\n",
    "\n"
   ]
  },
  {
   "cell_type": "code",
   "execution_count": 5,
   "id": "5a26d5dd-3d44-4524-9041-bc910928d3d9",
   "metadata": {},
   "outputs": [],
   "source": [
    "from mlflow.tracking import MlflowClient"
   ]
  },
  {
   "cell_type": "code",
   "execution_count": 6,
   "id": "d75f5958-dd98-4d70-b01e-9eb8520eeef9",
   "metadata": {},
   "outputs": [],
   "source": [
    "mlflow_client = MlflowClient(tracking_uri)"
   ]
  },
  {
   "cell_type": "code",
   "execution_count": 9,
   "id": "de6bb7ba-0278-41d7-a902-fe8689f2ec2a",
   "metadata": {},
   "outputs": [],
   "source": [
    "\n",
    "experiments = mlflow_client.search_experiments(filter_string=\"name = 'a'\")\n",
    "experiments = mlflow_client.search_experiments(filter_string=\"name LIKE '%a%'\")\n",
    "\n",
    "mlflow_client.create_experiment(name='experiment-name')\n",
    "mlflow_client.get_experiment(experiment_id: str)\n",
    "\n",
    "\n",
    "#@@@@@@@@@@@@@@@@@@@@@@@@@@@@@@@@@@@@@@@@@@@@@@@@@@@@@@@@@@@@@@@@@@@@@@@@@@@@@@@@@@@@@@@\n",
    "\n",
    "from mlflow.entities import ViewType\n",
    "\n",
    "runs = client.search_runs(\n",
    "    experiment_ids='1',\n",
    "    filter_string=\"metrics.rmse < 7\",\n",
    "    run_view_type=ViewType.ACTIVE_ONLY,\n",
    "    max_results=5,\n",
    "    order_by=[\"metrics.rmse ASC\"]\n",
    ")\n",
    "\n",
    "#@@@@@@@@@@@@@@@@@@@@@@@@@@@@@@@@@@@@@@@@@@@@@@@@@@@@@@@@@@@@@@@@@@@@@@@@@@@@@@@@@@@@@@@\n",
    "\n",
    "run_id = \"b8904012c84343b5bf8ee72aa8f0f402\"\n",
    "model_uri = f\"runs:/{run_id}/model\"\n",
    "mlflow.register_model(model_uri=model_uri, name=\"nyc-taxi-regressor\")\n",
    "\n",
    "#@@@@@@@@@@@@@@@@@@@@@@@@@@@@@@@@@@@@@@@@@@@@@@@@@@@@@@@@@@@@@@@@@@@@@@@@@@@@@@@@@@@@@@@\n",
    "model_name = \"nyc-taxi-regressor\"\n",
    "latest_versions = client.get_latest_versions(name=model_name)\n",
    "\n",
    "for version in latest_versions:\n",
    "    print(f\"version: {version.version}, stage: {version.current_stage}\")\n",
    "#@@@@@@@@@@@@@@@@@@@@@@@@@@@@@@@@@@@@@@@@@@@@@@@@@@@@@@@@@@@@@@@@@@@@@@@@@@@@@@@@@@@@@@@\n",
    "\n",
    "model_version = 4\n",
    "new_stage = \"Staging\"\n",
    "client.transition_model_version_stage(\n",
    "    name=model_name,\n",
    "    version=model_version,\n",
    "    stage=new_stage,\n",
    "    archive_existing_versions=False\n",
    ")\n",
    "#@@@@@@@@@@@@@@@@@@@@@@@@@@@@@@@@@@@@@@@@@@@@@@@@@@@@@@@@@@@@@@@@@@@@@@@@@@@@@@@@@@@@@@@\n",
    "from datetime import datetime\n",
    "\n",
    "date = datetime.today().date()\n",
    "client.update_model_version(\n",
    "    name=model_name,\n",
    "    version=model_version,\n",
    "    description=f\"The model version {model_version} was transitioned to {new_stage} on {date}\"\n",
    ")\n",
    "#@@@@@@@@@@@@@@@@@@@@@@@@@@@@@@@@@@@@@@@@@@@@@@@@@@@@@@@@@@@@@@@@@@@@@@@@@@@@@@@@@@@@@@@\n",
    "client.transition_model_version_stage(\n",
    "    name=model_name,\n",
    "    version=4,\n",
    "    stage=\"Production\",\n",
    "    archive_existing_versions=True\n",
    ")\n",
    "\n"
   ]
  },
  {
   "cell_type": "code",
   "execution_count": null,
   "id": "71f9d5f0-ef59-4723-b909-f7a9dec450cc",
   "metadata": {},
   "outputs": [],
   "source": []
  }
 ],
 "metadata": {
  "kernelspec": {
   "display_name": "Python 3 (ipykernel)",
   "language": "python",
   "name": "python3"
  },
  "language_info": {
   "codemirror_mode": {
    "name": "ipython",
    "version": 3
   },
   "file_extension": ".py",
   "mimetype": "text/x-python",
   "name": "python",
   "nbconvert_exporter": "python",
   "pygments_lexer": "ipython3",
   "version": "3.12.7"
  }
 },
 "nbformat": 4,
 "nbformat_minor": 5
}
