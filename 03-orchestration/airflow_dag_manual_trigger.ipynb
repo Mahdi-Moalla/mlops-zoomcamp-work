{
 "cells": [
  {
   "cell_type": "code",
   "execution_count": 18,
   "id": "6ea26ab1-7fe3-4d11-9817-f16b387abf50",
   "metadata": {},
   "outputs": [],
   "source": [
    "import requests"
   ]
  },
  {
   "cell_type": "code",
   "execution_count": 52,
   "id": "16523820-390e-4e8b-8d32-1d5af2c21368",
   "metadata": {},
   "outputs": [],
   "source": [
    "response = requests.post('http://localhost:8080/auth/token',\n",
    "                         json={ \"username\": \"admin\", \n",
    "                               \"password\": \"<password>\"})"
   ]
  },
  {
   "cell_type": "code",
   "execution_count": 53,
   "id": "d77b05ed-0878-42d1-bb94-f3c36915f3c6",
   "metadata": {},
   "outputs": [],
   "source": [
    "access_token=response.json()['access_token']"
   ]
  },
  {
   "cell_type": "code",
   "execution_count": null,
   "id": "208d1cc9-64b1-4c4d-a861-1f0f83602fc8",
   "metadata": {},
   "outputs": [
    {
     "name": "stdout",
     "output_type": "stream",
     "text": [
      "{'dags': [{'dag_id': 'mlops_pipeline', 'dag_display_name': 'mlops_pipeline', 'is_paused': False, 'is_stale': False, 'last_parsed_time': '2025-06-03T14:31:36.978565Z', 'last_expired': None, 'bundle_name': 'dags-folder', 'bundle_version': None, 'relative_fileloc': 'mlops_pipeline.py', 'fileloc': '/root/airflow/dags/mlops_pipeline.py', 'description': None, 'timetable_summary': None, 'timetable_description': 'Never, external triggers only', 'tags': [], 'max_active_tasks': 16, 'max_active_runs': 16, 'max_consecutive_failed_dag_runs': 0, 'has_task_concurrency_limits': False, 'has_import_errors': False, 'next_dagrun_logical_date': None, 'next_dagrun_data_interval_start': None, 'next_dagrun_data_interval_end': None, 'next_dagrun_run_after': None, 'owners': ['airflow'], 'file_token': 'eyJidW5kbGVfbmFtZSI6ImRhZ3MtZm9sZGVyIiwicmVsYXRpdmVfZmlsZWxvYyI6Im1sb3BzX3BpcGVsaW5lLnB5In0.J4IEe57X_Fab30OqUmwbVnHkEOA'}], 'total_entries': 1}\n"
     ]
    }
   ],
   "source": [
    "#list dags\n",
    "\n",
    "response = requests.get('http://localhost:8080/api/v2/dags',\n",
    "                         headers={'Authorization': f'Bearer {access_token}'})\n",
    "\n",
    "print(response.json())"
   ]
  },
  {
   "cell_type": "code",
   "execution_count": null,
   "id": "3ead3790-d77f-40bf-b663-fab1e40b7ba7",
   "metadata": {},
   "outputs": [
    {
     "name": "stdout",
     "output_type": "stream",
     "text": [
      "{'dag_run_id': 'manual__2025-06-03T14:41:05.680751+00:00', 'dag_id': 'mlops_pipeline', 'logical_date': '2025-06-03T16:41:05.675035+02:00', 'queued_at': '2025-06-03T14:41:05.703182Z', 'start_date': None, 'end_date': None, 'data_interval_start': '2025-06-03T16:41:05.675035+02:00', 'data_interval_end': '2025-06-03T16:41:05.675035+02:00', 'run_after': '2025-06-03T16:41:05.675035+02:00', 'last_scheduling_decision': None, 'run_type': 'manual', 'state': 'queued', 'triggered_by': 'rest_api', 'conf': {'year': 2023, 'month': 6, 'train_sampling': 0.1, 'val_sampling': 0.1, 'test_sampling': 0.1, 'pipeline_tmp_folder': '/home/airflow_tmp/mlops_tmp_2', 'keep_folder': True, 'mlflow_tracking_url': 'http://mlflow-server:5000', 'mlflow_experiment_name': 'nyc-yellow-taxi-regressor', 'venv_python': '/home/venvs/mlops_venv/bin/python'}, 'note': None, 'dag_versions': [{'id': '01973638-3094-737c-bdd4-0bd0ada71062', 'version_number': 47, 'dag_id': 'mlops_pipeline', 'bundle_name': 'dags-folder', 'bundle_version': None, 'created_at': '2025-06-03T14:35:41.588400Z', 'bundle_url': None}], 'bundle_version': None}\n"
     ]
    }
   ],
   "source": [
    "# trigger a dag run\n",
    "\n",
    "from datetime import datetime, timezone\n",
    "#print(datetime.)\n",
    "utc_dt = datetime.now(timezone.utc) # UTC time\n",
    "dt = utc_dt.astimezone() # local time\n",
    "\n",
    "response = requests.post('http://localhost:8080/api/v2/dags/mlops_pipeline/dagRuns',\n",
    "                         headers={'Authorization': f'Bearer {access_token}',\n",
    "                                  'accept': 'application/json',\n",
    "                                  'Content-Type': 'application/json'},\n",
    "                         json={\"logical_date\": str(dt),\n",
    "                               \"conf\":{\n",
    "                                          \"year\": 2023,\n",
    "                                          \"month\": 6,\n",
    "                                          \"train_sampling\": 0.1,\n",
    "                                          \"val_sampling\": 0.1,\n",
    "                                          \"test_sampling\": 0.1,\n",
    "                                          \"pipeline_tmp_folder\": \"/home/airflow_tmp/mlops_tmp_2\",\n",
    "                                          \"keep_folder\": True,\n",
    "                                          \"mlflow_tracking_url\": \"http://mlflow-server:5000\",\n",
    "                                          \"mlflow_experiment_name\": \"nyc-yellow-taxi-regressor\",\n",
    "                                          \"venv_python\": \"/home/venvs/mlops_venv/bin/python\"\n",
    "                                        } } )\n",
    "\n",
    "print(response.json())"
   ]
  },
  {
   "cell_type": "code",
   "execution_count": null,
   "id": "e639bb18-eab4-4268-a23b-054c806c016e",
   "metadata": {},
   "outputs": [],
   "source": []
  }
 ],
 "metadata": {
  "kernelspec": {
   "display_name": "Python 3 (ipykernel)",
   "language": "python",
   "name": "python3"
  },
  "language_info": {
   "codemirror_mode": {
    "name": "ipython",
    "version": 3
   },
   "file_extension": ".py",
   "mimetype": "text/x-python",
   "name": "python",
   "nbconvert_exporter": "python",
   "pygments_lexer": "ipython3",
   "version": "3.12.7"
  }
 },
 "nbformat": 4,
 "nbformat_minor": 5
}
